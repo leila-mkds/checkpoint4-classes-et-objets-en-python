{
 "cells": [
  {
   "cell_type": "code",
   "execution_count": 1,
   "id": "45211212",
   "metadata": {},
   "outputs": [
    {
     "name": "stdout",
     "output_type": "stream",
     "text": [
      "1 2 3\n"
     ]
    }
   ],
   "source": [
    "#Question 1:\n",
    "class Point3D :\n",
    "  def __init__(self,x,y,z):\n",
    "    self.x=x\n",
    "    self.y=y\n",
    "    self.z=z\n",
    "  def afficher(self):\n",
    "   print(self.x, self.y, self.z)\n",
    "var= Point3D(1,2,3)\n",
    "var.afficher()"
   ]
  },
  {
   "cell_type": "code",
   "execution_count": 2,
   "id": "956f406b",
   "metadata": {},
   "outputs": [
    {
     "name": "stdout",
     "output_type": "stream",
     "text": [
      "14\n",
      "12\n"
     ]
    }
   ],
   "source": [
    "#Question 2:\n",
    "class Rectangle :\n",
    "  def __init__(self,W,L):\n",
    "    self.W=W\n",
    "    self.L=L\n",
    "  def perim(self):\n",
    "    p=(self.W+self.L)*2\n",
    "    print(p)\n",
    "  def surf(self):\n",
    "    a=self.W*self.L\n",
    "    print(a)\n",
    "my_rectangle=Rectangle(3,4)\n",
    "my_rectangle.perim()\n",
    "my_rectangle.surf()"
   ]
  },
  {
   "cell_type": "code",
   "execution_count": 3,
   "id": "12f0d990",
   "metadata": {},
   "outputs": [
    {
     "name": "stdout",
     "output_type": "stream",
     "text": [
      "25.12\n",
      "50.24\n"
     ]
    }
   ],
   "source": [
    "#Question 3:\n",
    "class Circle :\n",
    "  def __init__(self,O,r):\n",
    "    self.r=r\n",
    "    self.O=O\n",
    "  def surface(self):\n",
    "    S=3.14*self.r**2\n",
    "    print(S)\n",
    "  def perimetre(self):\n",
    "    P=2*3.14*self.r\n",
    "    print(P)\n",
    "my_circle=Circle(0,4)\n",
    "my_circle.perimetre()\n",
    "my_circle.surface()"
   ]
  },
  {
   "cell_type": "code",
   "execution_count": 4,
   "id": "d8c8dfa3",
   "metadata": {},
   "outputs": [
    {
     "name": "stdout",
     "output_type": "stream",
     "text": [
      "client number1\n",
      " nom : Mekhides\n",
      " prénom : Leila\n",
      " Adresse : Alger\n",
      " Numéro ccp : 0265412965\n",
      "Vous avez versé: 500 Da\n",
      "Votre compte contient: 2500 Da\n",
      "Vous avez retiré: 1000 Da\n",
      "Votre compte contient: 1500 Da\n"
     ]
    }
   ],
   "source": [
    "#Question 4:\n",
    "class Bank :\n",
    "  # creation du compte bancaire\n",
    "  def __init__(self,num_cl,nom,prenom,adr,ccp):\n",
    "    self.num_cl = num_cl \n",
    "    self.nom = nom\n",
    "    self.prenom = prenom\n",
    "    self.adr = adr\n",
    "    self.ccp = ccp\n",
    "client1 = Bank(1,\"Mekhides\",\"Leila\",\"Alger\",\"0265412965\")\n",
    "print(\"client number{}\\n nom : {}\\n prénom : {}\\n Adresse : {}\\n Numéro ccp : {}\".format(client1.num_cl, client1.nom, client1.prenom, client1.adr, client1.ccp))\n",
    "def depot(solde,d):\n",
    "  solde = solde+d\n",
    "  print(\"Vous avez versé:\",d,\"Da\")\n",
    "  print(\"Votre compte contient:\",solde,\"Da\")\n",
    "depot(2000,500) # comment faire pour que le montant soit enregistré automatiquement ?\n",
    "def retrait(solde,r):\n",
    "  solde=solde-r\n",
    "  print(\"Vous avez retiré:\",r,\"Da\")\n",
    "  print(\"Votre compte contient:\",solde,\"Da\")\n",
    "retrait(2500,1000)"
   ]
  },
  {
   "cell_type": "code",
   "execution_count": null,
   "id": "a35b9649",
   "metadata": {},
   "outputs": [],
   "source": []
  }
 ],
 "metadata": {
  "kernelspec": {
   "display_name": "Python 3 (ipykernel)",
   "language": "python",
   "name": "python3"
  },
  "language_info": {
   "codemirror_mode": {
    "name": "ipython",
    "version": 3
   },
   "file_extension": ".py",
   "mimetype": "text/x-python",
   "name": "python",
   "nbconvert_exporter": "python",
   "pygments_lexer": "ipython3",
   "version": "3.9.12"
  }
 },
 "nbformat": 4,
 "nbformat_minor": 5
}
