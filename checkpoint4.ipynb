{
 "cells": [
  {
   "cell_type": "code",
   "execution_count": 11,
   "id": "1b17a189",
   "metadata": {},
   "outputs": [
    {
     "name": "stdout",
     "output_type": "stream",
     "text": [
      "blu is abird\n",
      "woo is abird\n",
      "blu is 10 year old\n",
      "woo is 15 year old\n"
     ]
    }
   ],
   "source": [
    "class parrot: #mot clef c'est class\n",
    "    #class attribute\n",
    "    species=\"bird\"\n",
    "    \n",
    "    #instance attribute\n",
    "    def __init__(self,name,age):\n",
    "        self.name=name\n",
    "        self.age=age\n",
    "    def sing(self,song):\n",
    "        return \"{} is singing{}\".format(self.name,song)\n",
    "\n",
    "    def dance(self):\n",
    "        return \"{} is dancing\".format(selef.name)\n",
    "        \n",
    "#instantiate the parrot class\n",
    "blu=parrot(\"blu\",10)\n",
    "woo=parrot(\"woo\",15)\n",
    "\n",
    "#access the class attribute\n",
    "blu.name,blu.age\n",
    "#woo.name,woo.age ici cv pas s safficher psk on peut pas avoir les deux par contre avec la 2 eme methode on peut\n",
    "\n",
    "print(\"blu is a{}\".format(blu.__class__.species))\n",
    "print(\"woo is a{}\".format(woo.__class__.species))\n",
    "\n",
    "#access the instance attribuute\n",
    "print(\"{} is {} year old\".format(blu.name,blu.age))\n",
    "print(\"{} is {} year old\".format(woo.name,woo.age))\n",
    "\n",
    "\n",
    "    "
   ]
  },
  {
   "cell_type": "code",
   "execution_count": 8,
   "id": "97941081",
   "metadata": {},
   "outputs": [],
   "source": [
    "blu=parrot(\"blu\",10)"
   ]
  },
  {
   "cell_type": "code",
   "execution_count": 9,
   "id": "498f9aac",
   "metadata": {},
   "outputs": [
    {
     "data": {
      "text/plain": [
       "10"
      ]
     },
     "execution_count": 9,
     "metadata": {},
     "output_type": "execute_result"
    }
   ],
   "source": [
    "blu.age"
   ]
  },
  {
   "cell_type": "code",
   "execution_count": null,
   "id": "7c6593cb",
   "metadata": {},
   "outputs": [],
   "source": []
  }
 ],
 "metadata": {
  "kernelspec": {
   "display_name": "Python 3 (ipykernel)",
   "language": "python",
   "name": "python3"
  },
  "language_info": {
   "codemirror_mode": {
    "name": "ipython",
    "version": 3
   },
   "file_extension": ".py",
   "mimetype": "text/x-python",
   "name": "python",
   "nbconvert_exporter": "python",
   "pygments_lexer": "ipython3",
   "version": "3.9.12"
  }
 },
 "nbformat": 4,
 "nbformat_minor": 5
}
